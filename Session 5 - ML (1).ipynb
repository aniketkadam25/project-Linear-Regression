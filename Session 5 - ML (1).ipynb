{
 "cells": [
  {
   "cell_type": "code",
   "execution_count": 1,
   "id": "94b2c1b3",
   "metadata": {},
   "outputs": [],
   "source": [
    "import pandas as pd\n",
    "import seaborn as sns\n",
    "import matplotlib.pyplot as plt"
   ]
  },
  {
   "cell_type": "code",
   "execution_count": 2,
   "id": "b1edef20",
   "metadata": {},
   "outputs": [],
   "source": [
    "data= pd.read_csv(r\"C:\\Users\\Aniket Kadam\\Downloads\\Advertising.csv\",index_col=0)"
   ]
  },
  {
   "cell_type": "markdown",
   "id": "0c10a6f5",
   "metadata": {},
   "source": [
    "# Data Reprocessing"
   ]
  },
  {
   "cell_type": "code",
   "execution_count": 3,
   "id": "f45db503",
   "metadata": {},
   "outputs": [
    {
     "data": {
      "text/html": [
       "<div>\n",
       "<style scoped>\n",
       "    .dataframe tbody tr th:only-of-type {\n",
       "        vertical-align: middle;\n",
       "    }\n",
       "\n",
       "    .dataframe tbody tr th {\n",
       "        vertical-align: top;\n",
       "    }\n",
       "\n",
       "    .dataframe thead th {\n",
       "        text-align: right;\n",
       "    }\n",
       "</style>\n",
       "<table border=\"1\" class=\"dataframe\">\n",
       "  <thead>\n",
       "    <tr style=\"text-align: right;\">\n",
       "      <th></th>\n",
       "      <th>TV</th>\n",
       "      <th>radio</th>\n",
       "      <th>newspaper</th>\n",
       "      <th>sales</th>\n",
       "    </tr>\n",
       "  </thead>\n",
       "  <tbody>\n",
       "    <tr>\n",
       "      <th>1</th>\n",
       "      <td>230.1</td>\n",
       "      <td>37.8</td>\n",
       "      <td>69.2</td>\n",
       "      <td>22.1</td>\n",
       "    </tr>\n",
       "    <tr>\n",
       "      <th>2</th>\n",
       "      <td>44.5</td>\n",
       "      <td>39.3</td>\n",
       "      <td>45.1</td>\n",
       "      <td>10.4</td>\n",
       "    </tr>\n",
       "    <tr>\n",
       "      <th>3</th>\n",
       "      <td>17.2</td>\n",
       "      <td>45.9</td>\n",
       "      <td>69.3</td>\n",
       "      <td>9.3</td>\n",
       "    </tr>\n",
       "    <tr>\n",
       "      <th>4</th>\n",
       "      <td>151.5</td>\n",
       "      <td>41.3</td>\n",
       "      <td>58.5</td>\n",
       "      <td>18.5</td>\n",
       "    </tr>\n",
       "    <tr>\n",
       "      <th>5</th>\n",
       "      <td>180.8</td>\n",
       "      <td>10.8</td>\n",
       "      <td>58.4</td>\n",
       "      <td>12.9</td>\n",
       "    </tr>\n",
       "    <tr>\n",
       "      <th>...</th>\n",
       "      <td>...</td>\n",
       "      <td>...</td>\n",
       "      <td>...</td>\n",
       "      <td>...</td>\n",
       "    </tr>\n",
       "    <tr>\n",
       "      <th>196</th>\n",
       "      <td>38.2</td>\n",
       "      <td>3.7</td>\n",
       "      <td>13.8</td>\n",
       "      <td>7.6</td>\n",
       "    </tr>\n",
       "    <tr>\n",
       "      <th>197</th>\n",
       "      <td>94.2</td>\n",
       "      <td>4.9</td>\n",
       "      <td>8.1</td>\n",
       "      <td>9.7</td>\n",
       "    </tr>\n",
       "    <tr>\n",
       "      <th>198</th>\n",
       "      <td>177.0</td>\n",
       "      <td>9.3</td>\n",
       "      <td>6.4</td>\n",
       "      <td>12.8</td>\n",
       "    </tr>\n",
       "    <tr>\n",
       "      <th>199</th>\n",
       "      <td>283.6</td>\n",
       "      <td>42.0</td>\n",
       "      <td>66.2</td>\n",
       "      <td>25.5</td>\n",
       "    </tr>\n",
       "    <tr>\n",
       "      <th>200</th>\n",
       "      <td>232.1</td>\n",
       "      <td>8.6</td>\n",
       "      <td>8.7</td>\n",
       "      <td>13.4</td>\n",
       "    </tr>\n",
       "  </tbody>\n",
       "</table>\n",
       "<p>200 rows × 4 columns</p>\n",
       "</div>"
      ],
      "text/plain": [
       "        TV  radio  newspaper  sales\n",
       "1    230.1   37.8       69.2   22.1\n",
       "2     44.5   39.3       45.1   10.4\n",
       "3     17.2   45.9       69.3    9.3\n",
       "4    151.5   41.3       58.5   18.5\n",
       "5    180.8   10.8       58.4   12.9\n",
       "..     ...    ...        ...    ...\n",
       "196   38.2    3.7       13.8    7.6\n",
       "197   94.2    4.9        8.1    9.7\n",
       "198  177.0    9.3        6.4   12.8\n",
       "199  283.6   42.0       66.2   25.5\n",
       "200  232.1    8.6        8.7   13.4\n",
       "\n",
       "[200 rows x 4 columns]"
      ]
     },
     "execution_count": 3,
     "metadata": {},
     "output_type": "execute_result"
    }
   ],
   "source": [
    "data"
   ]
  },
  {
   "cell_type": "code",
   "execution_count": 4,
   "id": "58956932",
   "metadata": {},
   "outputs": [],
   "source": [
    "x=data[\"TV\"]\n",
    "y=data[\"sales\"]"
   ]
  },
  {
   "cell_type": "code",
   "execution_count": 5,
   "id": "ed18fdad",
   "metadata": {},
   "outputs": [
    {
     "data": {
      "text/plain": [
       "Text(0.5, 1.0, 'Sales VS TV Advertising')"
      ]
     },
     "execution_count": 5,
     "metadata": {},
     "output_type": "execute_result"
    },
    {
     "data": {
      "image/png": "[encoded data removed]",
      "text/plain": [
       "<Figure size 640x480 with 1 Axes>"
      ]
     },
     "metadata": {},
     "output_type": "display_data"
    }
   ],
   "source": [
    "plt.scatter (x,y)\n",
    "plt.xlabel(\"TV\")\n",
    "plt.ylabel(\"sales\")\n",
    "plt.title(\"Sales VS TV Advertising\")"
   ]
  },
  {
   "cell_type": "code",
   "execution_count": 6,
   "id": "a4192121",
   "metadata": {},
   "outputs": [],
   "source": [
    "x=data[\"radio\"]\n",
    "y=data[\"sales\"]"
   ]
  },
  {
   "cell_type": "code",
   "execution_count": 7,
   "id": "ec9c3c12",
   "metadata": {},
   "outputs": [
    {
     "data": {
      "text/plain": [
       "Text(0.5, 1.0, 'Sales VS radio Advertising')"
      ]
     },
     "execution_count": 7,
     "metadata": {},
     "output_type": "execute_result"
    },
    {
     "data": {
      "image/png": "[encoded data removed]",
      "text/plain": [
       "<Figure size 640x480 with 1 Axes>"
      ]
     },
     "metadata": {},
     "output_type": "display_data"
    }
   ],
   "source": [
    "plt.scatter (x,y)\n",
    "plt.xlabel(\"radio\")\n",
    "plt.ylabel(\"sales\")\n",
    "plt.title(\"Sales VS radio Advertising\")"
   ]
  },
  {
   "cell_type": "code",
   "execution_count": 8,
   "id": "09abc686",
   "metadata": {},
   "outputs": [],
   "source": [
    "x=data[\"newspaper\"]\n",
    "y=data[\"sales\"]"
   ]
  },
  {
   "cell_type": "code",
   "execution_count": 9,
   "id": "286ad96d",
   "metadata": {},
   "outputs": [
    {
     "data": {
      "text/plain": [
       "Text(0.5, 1.0, 'Sales VS newspaper Advertising')"
      ]
     },
     "execution_count": 9,
     "metadata": {},
     "output_type": "execute_result"
    },
    {
     "data": {
      "image/png": "[encoded data removed]",
      "text/plain": [
       "<Figure size 640x480 with 1 Axes>"
      ]
     },
     "metadata": {},
     "output_type": "display_data"
    }
   ],
   "source": [
    "plt.scatter (x,y)\n",
    "plt.xlabel(\"sales\")\n",
    "plt.ylabel(\"sales\")\n",
    "plt.title(\"Sales VS newspaper Advertising\")"
   ]
  },
  {
   "cell_type": "code",
   "execution_count": 10,
   "id": "002dbe15",
   "metadata": {},
   "outputs": [
    {
     "data": {
      "text/plain": [
       "<Axes: >"
      ]
     },
     "execution_count": 10,
     "metadata": {},
     "output_type": "execute_result"
    },
    {
     "data": {
      "image/png": "[encoded data removed]",
      "text/plain": [
       "<Figure size 640x480 with 2 Axes>"
      ]
     },
     "metadata": {},
     "output_type": "display_data"
    }
   ],
   "source": [
    "sns.heatmap(data.corr(),annot=True)"
   ]
  },
  {
   "cell_type": "code",
   "execution_count": 11,
   "id": "073f44f5",
   "metadata": {},
   "outputs": [
    {
     "data": {
      "text/plain": [
       "TV           0\n",
       "radio        0\n",
       "newspaper    0\n",
       "sales        0\n",
       "dtype: int64"
      ]
     },
     "execution_count": 11,
     "metadata": {},
     "output_type": "execute_result"
    }
   ],
   "source": [
    "data.isnull().sum()"
   ]
  },
  {
   "cell_type": "code",
   "execution_count": 12,
   "id": "4598216f",
   "metadata": {},
   "outputs": [
    {
     "data": {
      "text/plain": [
       "{'whiskers': [<matplotlib.lines.Line2D at 0x20ed5397ad0>,\n",
       "  <matplotlib.lines.Line2D at 0x20ed53a47d0>,\n",
       "  <matplotlib.lines.Line2D at 0x20ed53b4890>,\n",
       "  <matplotlib.lines.Line2D at 0x20ed53b5290>,\n",
       "  <matplotlib.lines.Line2D at 0x20ed53c5550>,\n",
       "  <matplotlib.lines.Line2D at 0x20ed53c6090>,\n",
       "  <matplotlib.lines.Line2D at 0x20ed53ca5d0>,\n",
       "  <matplotlib.lines.Line2D at 0x20ed53cb0d0>],\n",
       " 'caps': [<matplotlib.lines.Line2D at 0x20ed53a5390>,\n",
       "  <matplotlib.lines.Line2D at 0x20ed53a5d90>,\n",
       "  <matplotlib.lines.Line2D at 0x20ed53b5dd0>,\n",
       "  <matplotlib.lines.Line2D at 0x20ed53b6950>,\n",
       "  <matplotlib.lines.Line2D at 0x20ed53c6c50>,\n",
       "  <matplotlib.lines.Line2D at 0x20ed53c7790>,\n",
       "  <matplotlib.lines.Line2D at 0x20ed53cbc50>,\n",
       "  <matplotlib.lines.Line2D at 0x20ed53d8790>],\n",
       " 'boxes': [<matplotlib.lines.Line2D at 0x20ed5372310>,\n",
       "  <matplotlib.lines.Line2D at 0x20ed53a7d10>,\n",
       "  <matplotlib.lines.Line2D at 0x20ed53c4a90>,\n",
       "  <matplotlib.lines.Line2D at 0x20ed53c9a90>],\n",
       " 'medians': [<matplotlib.lines.Line2D at 0x20ed53a6810>,\n",
       "  <matplotlib.lines.Line2D at 0x20ed53b73d0>,\n",
       "  <matplotlib.lines.Line2D at 0x20ed53c8350>,\n",
       "  <matplotlib.lines.Line2D at 0x20ed53d90d0>],\n",
       " 'fliers': [<matplotlib.lines.Line2D at 0x20ed499dad0>,\n",
       "  <matplotlib.lines.Line2D at 0x20ed53b7e90>,\n",
       "  <matplotlib.lines.Line2D at 0x20ed53c8d50>,\n",
       "  <matplotlib.lines.Line2D at 0x20ed53d9c10>],\n",
       " 'means': []}"
      ]
     },
     "execution_count": 12,
     "metadata": {},
     "output_type": "execute_result"
    },
    {
     "data": {
      "image/png": "[encoded data removed]",
      "text/plain": [
       "<Figure size 640x480 with 1 Axes>"
      ]
     },
     "metadata": {},
     "output_type": "display_data"
    }
   ],
   "source": [
    "plt.boxplot(data)"
   ]
  },
  {
   "cell_type": "code",
   "execution_count": 13,
   "id": "d9398e2f",
   "metadata": {},
   "outputs": [
    {
     "data": {
      "text/plain": [
       "<Axes: >"
      ]
     },
     "execution_count": 13,
     "metadata": {},
     "output_type": "execute_result"
    },
    {
     "data": {
      "image/png": "[encoded data removed]",
      "text/plain": [
       "<Figure size 640x480 with 1 Axes>"
      ]
     },
     "metadata": {},
     "output_type": "display_data"
    }
   ],
   "source": [
    "sns.scatterplot(data)"
   ]
  },
  {
   "cell_type": "code",
   "execution_count": 14,
   "id": "c5326752",
   "metadata": {},
   "outputs": [
    {
     "data": {
      "text/plain": [
       "{'whiskers': [<matplotlib.lines.Line2D at 0x20ed52ca490>,\n",
       "  <matplotlib.lines.Line2D at 0x20ed52cb050>],\n",
       " 'caps': [<matplotlib.lines.Line2D at 0x20ed52cbb10>,\n",
       "  <matplotlib.lines.Line2D at 0x20ed52d4710>],\n",
       " 'boxes': [<matplotlib.lines.Line2D at 0x20ed540d890>],\n",
       " 'medians': [<matplotlib.lines.Line2D at 0x20ed52d5250>],\n",
       " 'fliers': [<matplotlib.lines.Line2D at 0x20ed52d5d10>],\n",
       " 'means': []}"
      ]
     },
     "execution_count": 14,
     "metadata": {},
     "output_type": "execute_result"
    },
    {
     "data": {
      "image/png": "[encoded data removed]",
      "text/plain": [
       "<Figure size 640x480 with 1 Axes>"
      ]
     },
     "metadata": {},
     "output_type": "display_data"
    }
   ],
   "source": [
    "plt.boxplot(data[\"newspaper\"])"
   ]
  },
  {
   "cell_type": "code",
   "execution_count": 15,
   "id": "9226d179",
   "metadata": {},
   "outputs": [
    {
     "data": {
      "text/plain": [
       "{'whiskers': [<matplotlib.lines.Line2D at 0x20ed5461f50>,\n",
       "  <matplotlib.lines.Line2D at 0x20ed5462b50>],\n",
       " 'caps': [<matplotlib.lines.Line2D at 0x20ed54636d0>,\n",
       "  <matplotlib.lines.Line2D at 0x20ed546c110>],\n",
       " 'boxes': [<matplotlib.lines.Line2D at 0x20ed5461450>],\n",
       " 'medians': [<matplotlib.lines.Line2D at 0x20ed546cb90>],\n",
       " 'fliers': [<matplotlib.lines.Line2D at 0x20ed499cad0>],\n",
       " 'means': []}"
      ]
     },
     "execution_count": 15,
     "metadata": {},
     "output_type": "execute_result"
    },
    {
     "data": {
      "image/png": "[encoded data removed]",
      "text/plain": [
       "<Figure size 640x480 with 1 Axes>"
      ]
     },
     "metadata": {},
     "output_type": "display_data"
    }
   ],
   "source": [
    "plt.boxplot(data[\"TV\"])"
   ]
  },
  {
   "cell_type": "code",
   "execution_count": 16,
   "id": "7f6807d1",
   "metadata": {},
   "outputs": [
    {
     "data": {
      "text/plain": [
       "{'whiskers': [<matplotlib.lines.Line2D at 0x20ed54cb890>,\n",
       "  <matplotlib.lines.Line2D at 0x20ed54d8510>],\n",
       " 'caps': [<matplotlib.lines.Line2D at 0x20ed54d9010>,\n",
       "  <matplotlib.lines.Line2D at 0x20ed54d9b10>],\n",
       " 'boxes': [<matplotlib.lines.Line2D at 0x20ed54cabd0>],\n",
       " 'medians': [<matplotlib.lines.Line2D at 0x20ed54da650>],\n",
       " 'fliers': [<matplotlib.lines.Line2D at 0x20ed54d8b90>],\n",
       " 'means': []}"
      ]
     },
     "execution_count": 16,
     "metadata": {},
     "output_type": "execute_result"
    },
    {
     "data": {
      "image/png": "[encoded data removed]",
      "text/plain": [
       "<Figure size 640x480 with 1 Axes>"
      ]
     },
     "metadata": {},
     "output_type": "display_data"
    }
   ],
   "source": [
    "plt.boxplot(data[\"radio\"])"
   ]
  },
  {
   "cell_type": "code",
   "execution_count": 17,
   "id": "4a09632d",
   "metadata": {},
   "outputs": [],
   "source": [
    "x= data[[\"TV\",\"radio\",\"newspaper\"]]\n",
    "y= data[[\"sales\"]]"
   ]
  },
  {
   "cell_type": "code",
   "execution_count": 18,
   "id": "0a18b7e6",
   "metadata": {},
   "outputs": [
    {
     "data": {
      "text/html": [
       "<div>\n",
       "<style scoped>\n",
       "    .dataframe tbody tr th:only-of-type {\n",
       "        vertical-align: middle;\n",
       "    }\n",
       "\n",
       "    .dataframe tbody tr th {\n",
       "        vertical-align: top;\n",
       "    }\n",
       "\n",
       "    .dataframe thead th {\n",
       "        text-align: right;\n",
       "    }\n",
       "</style>\n",
       "<table border=\"1\" class=\"dataframe\">\n",
       "  <thead>\n",
       "    <tr style=\"text-align: right;\">\n",
       "      <th></th>\n",
       "      <th>TV</th>\n",
       "      <th>radio</th>\n",
       "      <th>newspaper</th>\n",
       "    </tr>\n",
       "  </thead>\n",
       "  <tbody>\n",
       "    <tr>\n",
       "      <th>1</th>\n",
       "      <td>230.1</td>\n",
       "      <td>37.8</td>\n",
       "      <td>69.2</td>\n",
       "    </tr>\n",
       "    <tr>\n",
       "      <th>2</th>\n",
       "      <td>44.5</td>\n",
       "      <td>39.3</td>\n",
       "      <td>45.1</td>\n",
       "    </tr>\n",
       "    <tr>\n",
       "      <th>3</th>\n",
       "      <td>17.2</td>\n",
       "      <td>45.9</td>\n",
       "      <td>69.3</td>\n",
       "    </tr>\n",
       "    <tr>\n",
       "      <th>4</th>\n",
       "      <td>151.5</td>\n",
       "      <td>41.3</td>\n",
       "      <td>58.5</td>\n",
       "    </tr>\n",
       "    <tr>\n",
       "      <th>5</th>\n",
       "      <td>180.8</td>\n",
       "      <td>10.8</td>\n",
       "      <td>58.4</td>\n",
       "    </tr>\n",
       "    <tr>\n",
       "      <th>...</th>\n",
       "      <td>...</td>\n",
       "      <td>...</td>\n",
       "      <td>...</td>\n",
       "    </tr>\n",
       "    <tr>\n",
       "      <th>196</th>\n",
       "      <td>38.2</td>\n",
       "      <td>3.7</td>\n",
       "      <td>13.8</td>\n",
       "    </tr>\n",
       "    <tr>\n",
       "      <th>197</th>\n",
       "      <td>94.2</td>\n",
       "      <td>4.9</td>\n",
       "      <td>8.1</td>\n",
       "    </tr>\n",
       "    <tr>\n",
       "      <th>198</th>\n",
       "      <td>177.0</td>\n",
       "      <td>9.3</td>\n",
       "      <td>6.4</td>\n",
       "    </tr>\n",
       "    <tr>\n",
       "      <th>199</th>\n",
       "      <td>283.6</td>\n",
       "      <td>42.0</td>\n",
       "      <td>66.2</td>\n",
       "    </tr>\n",
       "    <tr>\n",
       "      <th>200</th>\n",
       "      <td>232.1</td>\n",
       "      <td>8.6</td>\n",
       "      <td>8.7</td>\n",
       "    </tr>\n",
       "  </tbody>\n",
       "</table>\n",
       "<p>200 rows × 3 columns</p>\n",
       "</div>"
      ],
      "text/plain": [
       "        TV  radio  newspaper\n",
       "1    230.1   37.8       69.2\n",
       "2     44.5   39.3       45.1\n",
       "3     17.2   45.9       69.3\n",
       "4    151.5   41.3       58.5\n",
       "5    180.8   10.8       58.4\n",
       "..     ...    ...        ...\n",
       "196   38.2    3.7       13.8\n",
       "197   94.2    4.9        8.1\n",
       "198  177.0    9.3        6.4\n",
       "199  283.6   42.0       66.2\n",
       "200  232.1    8.6        8.7\n",
       "\n",
       "[200 rows x 3 columns]"
      ]
     },
     "execution_count": 18,
     "metadata": {},
     "output_type": "execute_result"
    }
   ],
   "source": [
    "x"
   ]
  },
  {
   "cell_type": "code",
   "execution_count": 19,
   "id": "311b05f5",
   "metadata": {},
   "outputs": [
    {
     "data": {
      "text/html": [
       "<div>\n",
       "<style scoped>\n",
       "    .dataframe tbody tr th:only-of-type {\n",
       "        vertical-align: middle;\n",
       "    }\n",
       "\n",
       "    .dataframe tbody tr th {\n",
       "        vertical-align: top;\n",
       "    }\n",
       "\n",
       "    .dataframe thead th {\n",
       "        text-align: right;\n",
       "    }\n",
       "</style>\n",
       "<table border=\"1\" class=\"dataframe\">\n",
       "  <thead>\n",
       "    <tr style=\"text-align: right;\">\n",
       "      <th></th>\n",
       "      <th>sales</th>\n",
       "    </tr>\n",
       "  </thead>\n",
       "  <tbody>\n",
       "    <tr>\n",
       "      <th>1</th>\n",
       "      <td>22.1</td>\n",
       "    </tr>\n",
       "    <tr>\n",
       "      <th>2</th>\n",
       "      <td>10.4</td>\n",
       "    </tr>\n",
       "    <tr>\n",
       "      <th>3</th>\n",
       "      <td>9.3</td>\n",
       "    </tr>\n",
       "    <tr>\n",
       "      <th>4</th>\n",
       "      <td>18.5</td>\n",
       "    </tr>\n",
       "    <tr>\n",
       "      <th>5</th>\n",
       "      <td>12.9</td>\n",
       "    </tr>\n",
       "    <tr>\n",
       "      <th>...</th>\n",
       "      <td>...</td>\n",
       "    </tr>\n",
       "    <tr>\n",
       "      <th>196</th>\n",
       "      <td>7.6</td>\n",
       "    </tr>\n",
       "    <tr>\n",
       "      <th>197</th>\n",
       "      <td>9.7</td>\n",
       "    </tr>\n",
       "    <tr>\n",
       "      <th>198</th>\n",
       "      <td>12.8</td>\n",
       "    </tr>\n",
       "    <tr>\n",
       "      <th>199</th>\n",
       "      <td>25.5</td>\n",
       "    </tr>\n",
       "    <tr>\n",
       "      <th>200</th>\n",
       "      <td>13.4</td>\n",
       "    </tr>\n",
       "  </tbody>\n",
       "</table>\n",
       "<p>200 rows × 1 columns</p>\n",
       "</div>"
      ],
      "text/plain": [
       "     sales\n",
       "1     22.1\n",
       "2     10.4\n",
       "3      9.3\n",
       "4     18.5\n",
       "5     12.9\n",
       "..     ...\n",
       "196    7.6\n",
       "197    9.7\n",
       "198   12.8\n",
       "199   25.5\n",
       "200   13.4\n",
       "\n",
       "[200 rows x 1 columns]"
      ]
     },
     "execution_count": 19,
     "metadata": {},
     "output_type": "execute_result"
    }
   ],
   "source": [
    "y"
   ]
  },
  {
   "cell_type": "code",
   "execution_count": 20,
   "id": "18a972e1",
   "metadata": {},
   "outputs": [
    {
     "name": "stdout",
     "output_type": "stream",
     "text": [
      "shape of x (200, 3)\n",
      "shape of y (200, 1)\n"
     ]
    }
   ],
   "source": [
    "print(\"shape of x\",x.shape)\n",
    "print(\"shape of y\",y.shape)"
   ]
  },
  {
   "cell_type": "code",
   "execution_count": 21,
   "id": "1ba04c90",
   "metadata": {},
   "outputs": [],
   "source": [
    "from sklearn.model_selection import train_test_split"
   ]
  },
  {
   "cell_type": "code",
   "execution_count": 22,
   "id": "5be6b4ce",
   "metadata": {},
   "outputs": [],
   "source": [
    "x_train,x_test,y_train,y_test = train_test_split(x,y,test_size=0.20)"
   ]
  },
  {
   "cell_type": "code",
   "execution_count": 23,
   "id": "1ebd529b",
   "metadata": {},
   "outputs": [
    {
     "name": "stdout",
     "output_type": "stream",
     "text": [
      "shape of x-train (160, 3)\n",
      "shape of x-test (40, 3)\n",
      "shape of y-train (160, 1)\n",
      "shape of y-test (40, 1)\n"
     ]
    }
   ],
   "source": [
    "print(\"shape of x-train\",x_train.shape)\n",
    "print(\"shape of x-test\",x_test.shape)\n",
    "print(\"shape of y-train\",y_train.shape)\n",
    "print(\"shape of y-test\",y_test.shape)"
   ]
  },
  {
   "cell_type": "code",
   "execution_count": 24,
   "id": "943247ef",
   "metadata": {},
   "outputs": [],
   "source": [
    "from sklearn.linear_model import LinearRegression"
   ]
  },
  {
   "cell_type": "code",
   "execution_count": 25,
   "id": "b88931ed",
   "metadata": {},
   "outputs": [],
   "source": [
    "lm= LinearRegression()"
   ]
  },
  {
   "cell_type": "code",
   "execution_count": 26,
   "id": "aa37c822",
   "metadata": {},
   "outputs": [],
   "source": [
    "model = lm.fit(x_train,y_train)"
   ]
  },
  {
   "cell_type": "code",
   "execution_count": 27,
   "id": "44a13749",
   "metadata": {},
   "outputs": [
    {
     "name": "stdout",
     "output_type": "stream",
     "text": [
      "[[ 0.04627836  0.18607137 -0.0043715 ]]\n"
     ]
    }
   ],
   "source": [
    "print(lm.coef_)"
   ]
  },
  {
   "cell_type": "code",
   "execution_count": 28,
   "id": "4646e833",
   "metadata": {},
   "outputs": [
    {
     "name": "stdout",
     "output_type": "stream",
     "text": [
      "[2.97601148]\n"
     ]
    }
   ],
   "source": [
    "print(lm.intercept_)"
   ]
  },
  {
   "cell_type": "code",
   "execution_count": 29,
   "id": "e6cf68d8",
   "metadata": {},
   "outputs": [],
   "source": [
    "# y= b0 + b1x1 +b2X2 + b3x3"
   ]
  },
  {
   "cell_type": "code",
   "execution_count": 30,
   "id": "e789cfb9",
   "metadata": {},
   "outputs": [],
   "source": [
    "bzero = 3.02326269"
   ]
  },
  {
   "cell_type": "code",
   "execution_count": 31,
   "id": "3c82b447",
   "metadata": {},
   "outputs": [],
   "source": [
    "bone = 0.04515611"
   ]
  },
  {
   "cell_type": "code",
   "execution_count": 32,
   "id": "69d14170",
   "metadata": {},
   "outputs": [],
   "source": [
    "btwo = 0.19818638"
   ]
  },
  {
   "cell_type": "code",
   "execution_count": 33,
   "id": "c5966ce8",
   "metadata": {},
   "outputs": [],
   "source": [
    "bthree = -0.00834633"
   ]
  },
  {
   "cell_type": "code",
   "execution_count": 34,
   "id": "6ba37269",
   "metadata": {},
   "outputs": [],
   "source": [
    "y= bzero + bone*180.8 + btwo*10.8 + bthree*58.4"
   ]
  },
  {
   "cell_type": "code",
   "execution_count": 35,
   "id": "5adfd1c5",
   "metadata": {},
   "outputs": [
    {
     "data": {
      "text/plain": [
       "12.84047461"
      ]
     },
     "execution_count": 35,
     "metadata": {},
     "output_type": "execute_result"
    }
   ],
   "source": [
    "y"
   ]
  },
  {
   "cell_type": "code",
   "execution_count": 36,
   "id": "73d87c38",
   "metadata": {},
   "outputs": [],
   "source": [
    "y= bzero + bone*120.2 + btwo*19.6 + bthree*11.6"
   ]
  },
  {
   "cell_type": "code",
   "execution_count": 37,
   "id": "90b17aef",
   "metadata": {},
   "outputs": [
    {
     "data": {
      "text/plain": [
       "12.238662732"
      ]
     },
     "execution_count": 37,
     "metadata": {},
     "output_type": "execute_result"
    }
   ],
   "source": [
    "y"
   ]
  },
  {
   "cell_type": "code",
   "execution_count": 38,
   "id": "f439527a",
   "metadata": {},
   "outputs": [],
   "source": [
    "y_pred = lm.predict(x_test)"
   ]
  },
  {
   "cell_type": "code",
   "execution_count": 39,
   "id": "abd54a8e",
   "metadata": {},
   "outputs": [
    {
     "data": {
      "text/plain": [
       "array([[21.0627974 ],\n",
       "       [10.67070459],\n",
       "       [23.6261584 ],\n",
       "       [13.19979089],\n",
       "       [20.35565196],\n",
       "       [ 3.76038375],\n",
       "       [ 8.81322435],\n",
       "       [ 7.77864654],\n",
       "       [ 7.36792175],\n",
       "       [ 9.78527474],\n",
       "       [14.79389284],\n",
       "       [19.18423107],\n",
       "       [ 9.78305734],\n",
       "       [ 8.41671081],\n",
       "       [20.00216976],\n",
       "       [21.70964587],\n",
       "       [19.69398161],\n",
       "       [13.72073977],\n",
       "       [17.09473   ],\n",
       "       [11.11147818],\n",
       "       [15.55166393],\n",
       "       [19.77678092],\n",
       "       [16.50179357],\n",
       "       [12.1812445 ],\n",
       "       [11.38229927],\n",
       "       [17.37190232],\n",
       "       [14.95083572],\n",
       "       [20.75888244],\n",
       "       [15.31301209],\n",
       "       [14.19271518],\n",
       "       [17.73359034],\n",
       "       [18.12572225],\n",
       "       [15.37724475],\n",
       "       [14.29989308],\n",
       "       [16.105593  ],\n",
       "       [ 7.89574763],\n",
       "       [12.34333071],\n",
       "       [18.00394399],\n",
       "       [12.73363623],\n",
       "       [13.38790702]])"
      ]
     },
     "execution_count": 39,
     "metadata": {},
     "output_type": "execute_result"
    }
   ],
   "source": [
    "y_pred"
   ]
  },
  {
   "cell_type": "code",
   "execution_count": 40,
   "id": "f1dbb604",
   "metadata": {},
   "outputs": [
    {
     "data": {
      "text/html": [
       "<div>\n",
       "<style scoped>\n",
       "    .dataframe tbody tr th:only-of-type {\n",
       "        vertical-align: middle;\n",
       "    }\n",
       "\n",
       "    .dataframe tbody tr th {\n",
       "        vertical-align: top;\n",
       "    }\n",
       "\n",
       "    .dataframe thead th {\n",
       "        text-align: right;\n",
       "    }\n",
       "</style>\n",
       "<table border=\"1\" class=\"dataframe\">\n",
       "  <thead>\n",
       "    <tr style=\"text-align: right;\">\n",
       "      <th></th>\n",
       "      <th>TV</th>\n",
       "      <th>radio</th>\n",
       "      <th>newspaper</th>\n",
       "      <th>actual sales</th>\n",
       "      <th>predicted sales</th>\n",
       "    </tr>\n",
       "  </thead>\n",
       "  <tbody>\n",
       "    <tr>\n",
       "      <th>94</th>\n",
       "      <td>250.9</td>\n",
       "      <td>36.5</td>\n",
       "      <td>72.3</td>\n",
       "      <td>22.2</td>\n",
       "      <td>21.062797</td>\n",
       "    </tr>\n",
       "    <tr>\n",
       "      <th>181</th>\n",
       "      <td>156.6</td>\n",
       "      <td>2.6</td>\n",
       "      <td>8.3</td>\n",
       "      <td>10.5</td>\n",
       "      <td>10.670705</td>\n",
       "    </tr>\n",
       "    <tr>\n",
       "      <th>199</th>\n",
       "      <td>283.6</td>\n",
       "      <td>42.0</td>\n",
       "      <td>66.2</td>\n",
       "      <td>25.5</td>\n",
       "      <td>23.626158</td>\n",
       "    </tr>\n",
       "    <tr>\n",
       "      <th>64</th>\n",
       "      <td>102.7</td>\n",
       "      <td>29.6</td>\n",
       "      <td>8.4</td>\n",
       "      <td>14.0</td>\n",
       "      <td>13.199791</td>\n",
       "    </tr>\n",
       "    <tr>\n",
       "      <th>1</th>\n",
       "      <td>230.1</td>\n",
       "      <td>37.8</td>\n",
       "      <td>69.2</td>\n",
       "      <td>22.1</td>\n",
       "      <td>20.355652</td>\n",
       "    </tr>\n",
       "    <tr>\n",
       "      <th>9</th>\n",
       "      <td>8.6</td>\n",
       "      <td>2.1</td>\n",
       "      <td>1.0</td>\n",
       "      <td>4.8</td>\n",
       "      <td>3.760384</td>\n",
       "    </tr>\n",
       "    <tr>\n",
       "      <th>47</th>\n",
       "      <td>89.7</td>\n",
       "      <td>9.9</td>\n",
       "      <td>35.7</td>\n",
       "      <td>10.6</td>\n",
       "      <td>8.813224</td>\n",
       "    </tr>\n",
       "    <tr>\n",
       "      <th>130</th>\n",
       "      <td>59.6</td>\n",
       "      <td>12.0</td>\n",
       "      <td>43.1</td>\n",
       "      <td>9.7</td>\n",
       "      <td>7.778647</td>\n",
       "    </tr>\n",
       "    <tr>\n",
       "      <th>171</th>\n",
       "      <td>50.0</td>\n",
       "      <td>11.6</td>\n",
       "      <td>18.4</td>\n",
       "      <td>8.4</td>\n",
       "      <td>7.367922</td>\n",
       "    </tr>\n",
       "    <tr>\n",
       "      <th>39</th>\n",
       "      <td>43.1</td>\n",
       "      <td>26.7</td>\n",
       "      <td>35.1</td>\n",
       "      <td>10.1</td>\n",
       "      <td>9.785275</td>\n",
       "    </tr>\n",
       "    <tr>\n",
       "      <th>104</th>\n",
       "      <td>187.9</td>\n",
       "      <td>17.2</td>\n",
       "      <td>17.9</td>\n",
       "      <td>14.7</td>\n",
       "      <td>14.793893</td>\n",
       "    </tr>\n",
       "    <tr>\n",
       "      <th>134</th>\n",
       "      <td>219.8</td>\n",
       "      <td>33.5</td>\n",
       "      <td>45.1</td>\n",
       "      <td>19.6</td>\n",
       "      <td>19.184231</td>\n",
       "    </tr>\n",
       "    <tr>\n",
       "      <th>146</th>\n",
       "      <td>140.3</td>\n",
       "      <td>1.9</td>\n",
       "      <td>9.0</td>\n",
       "      <td>10.3</td>\n",
       "      <td>9.783057</td>\n",
       "    </tr>\n",
       "    <tr>\n",
       "      <th>133</th>\n",
       "      <td>8.4</td>\n",
       "      <td>27.2</td>\n",
       "      <td>2.1</td>\n",
       "      <td>5.7</td>\n",
       "      <td>8.416711</td>\n",
       "    </tr>\n",
       "    <tr>\n",
       "      <th>177</th>\n",
       "      <td>248.4</td>\n",
       "      <td>30.2</td>\n",
       "      <td>20.3</td>\n",
       "      <td>20.2</td>\n",
       "      <td>20.002170</td>\n",
       "    </tr>\n",
       "    <tr>\n",
       "      <th>43</th>\n",
       "      <td>293.6</td>\n",
       "      <td>27.7</td>\n",
       "      <td>1.8</td>\n",
       "      <td>20.7</td>\n",
       "      <td>21.709646</td>\n",
       "    </tr>\n",
       "    <tr>\n",
       "      <th>140</th>\n",
       "      <td>184.9</td>\n",
       "      <td>43.9</td>\n",
       "      <td>1.7</td>\n",
       "      <td>20.7</td>\n",
       "      <td>19.693982</td>\n",
       "    </tr>\n",
       "    <tr>\n",
       "      <th>123</th>\n",
       "      <td>224.0</td>\n",
       "      <td>2.4</td>\n",
       "      <td>15.6</td>\n",
       "      <td>11.6</td>\n",
       "      <td>13.720740</td>\n",
       "    </tr>\n",
       "    <tr>\n",
       "      <th>28</th>\n",
       "      <td>240.1</td>\n",
       "      <td>16.7</td>\n",
       "      <td>22.9</td>\n",
       "      <td>15.9</td>\n",
       "      <td>17.094730</td>\n",
       "    </tr>\n",
       "    <tr>\n",
       "      <th>165</th>\n",
       "      <td>117.2</td>\n",
       "      <td>14.7</td>\n",
       "      <td>5.4</td>\n",
       "      <td>11.9</td>\n",
       "      <td>11.111478</td>\n",
       "    </tr>\n",
       "    <tr>\n",
       "      <th>155</th>\n",
       "      <td>187.8</td>\n",
       "      <td>21.1</td>\n",
       "      <td>9.5</td>\n",
       "      <td>15.6</td>\n",
       "      <td>15.551664</td>\n",
       "    </tr>\n",
       "    <tr>\n",
       "      <th>110</th>\n",
       "      <td>255.4</td>\n",
       "      <td>26.9</td>\n",
       "      <td>5.5</td>\n",
       "      <td>19.8</td>\n",
       "      <td>19.776781</td>\n",
       "    </tr>\n",
       "    <tr>\n",
       "      <th>195</th>\n",
       "      <td>149.7</td>\n",
       "      <td>35.6</td>\n",
       "      <td>6.0</td>\n",
       "      <td>17.3</td>\n",
       "      <td>16.501794</td>\n",
       "    </tr>\n",
       "    <tr>\n",
       "      <th>149</th>\n",
       "      <td>38.0</td>\n",
       "      <td>40.3</td>\n",
       "      <td>11.9</td>\n",
       "      <td>10.9</td>\n",
       "      <td>12.181244</td>\n",
       "    </tr>\n",
       "    <tr>\n",
       "      <th>81</th>\n",
       "      <td>76.4</td>\n",
       "      <td>26.7</td>\n",
       "      <td>22.3</td>\n",
       "      <td>11.8</td>\n",
       "      <td>11.382299</td>\n",
       "    </tr>\n",
       "    <tr>\n",
       "      <th>75</th>\n",
       "      <td>213.4</td>\n",
       "      <td>24.6</td>\n",
       "      <td>13.1</td>\n",
       "      <td>17.0</td>\n",
       "      <td>17.371902</td>\n",
       "    </tr>\n",
       "    <tr>\n",
       "      <th>163</th>\n",
       "      <td>188.4</td>\n",
       "      <td>18.1</td>\n",
       "      <td>25.6</td>\n",
       "      <td>14.9</td>\n",
       "      <td>14.950836</td>\n",
       "    </tr>\n",
       "    <tr>\n",
       "      <th>138</th>\n",
       "      <td>273.7</td>\n",
       "      <td>28.9</td>\n",
       "      <td>59.7</td>\n",
       "      <td>20.8</td>\n",
       "      <td>20.758882</td>\n",
       "    </tr>\n",
       "    <tr>\n",
       "      <th>119</th>\n",
       "      <td>125.7</td>\n",
       "      <td>36.9</td>\n",
       "      <td>79.2</td>\n",
       "      <td>15.9</td>\n",
       "      <td>15.313012</td>\n",
       "    </tr>\n",
       "    <tr>\n",
       "      <th>161</th>\n",
       "      <td>172.5</td>\n",
       "      <td>18.1</td>\n",
       "      <td>30.7</td>\n",
       "      <td>14.4</td>\n",
       "      <td>14.192715</td>\n",
       "    </tr>\n",
       "    <tr>\n",
       "      <th>106</th>\n",
       "      <td>137.9</td>\n",
       "      <td>46.4</td>\n",
       "      <td>59.0</td>\n",
       "      <td>19.2</td>\n",
       "      <td>17.733590</td>\n",
       "    </tr>\n",
       "    <tr>\n",
       "      <th>154</th>\n",
       "      <td>171.3</td>\n",
       "      <td>39.7</td>\n",
       "      <td>37.7</td>\n",
       "      <td>19.0</td>\n",
       "      <td>18.125722</td>\n",
       "    </tr>\n",
       "    <tr>\n",
       "      <th>88</th>\n",
       "      <td>110.7</td>\n",
       "      <td>40.6</td>\n",
       "      <td>63.2</td>\n",
       "      <td>16.0</td>\n",
       "      <td>15.377245</td>\n",
       "    </tr>\n",
       "    <tr>\n",
       "      <th>121</th>\n",
       "      <td>141.3</td>\n",
       "      <td>26.8</td>\n",
       "      <td>46.2</td>\n",
       "      <td>15.5</td>\n",
       "      <td>14.299893</td>\n",
       "    </tr>\n",
       "    <tr>\n",
       "      <th>179</th>\n",
       "      <td>276.7</td>\n",
       "      <td>2.3</td>\n",
       "      <td>23.7</td>\n",
       "      <td>11.8</td>\n",
       "      <td>16.105593</td>\n",
       "    </tr>\n",
       "    <tr>\n",
       "      <th>66</th>\n",
       "      <td>69.0</td>\n",
       "      <td>9.3</td>\n",
       "      <td>0.9</td>\n",
       "      <td>9.3</td>\n",
       "      <td>7.895748</td>\n",
       "    </tr>\n",
       "    <tr>\n",
       "      <th>160</th>\n",
       "      <td>131.7</td>\n",
       "      <td>18.4</td>\n",
       "      <td>34.6</td>\n",
       "      <td>12.9</td>\n",
       "      <td>12.343331</td>\n",
       "    </tr>\n",
       "    <tr>\n",
       "      <th>21</th>\n",
       "      <td>218.4</td>\n",
       "      <td>27.7</td>\n",
       "      <td>53.4</td>\n",
       "      <td>18.0</td>\n",
       "      <td>18.003944</td>\n",
       "    </tr>\n",
       "    <tr>\n",
       "      <th>116</th>\n",
       "      <td>75.1</td>\n",
       "      <td>35.0</td>\n",
       "      <td>52.7</td>\n",
       "      <td>12.6</td>\n",
       "      <td>12.733636</td>\n",
       "    </tr>\n",
       "    <tr>\n",
       "      <th>162</th>\n",
       "      <td>85.7</td>\n",
       "      <td>35.8</td>\n",
       "      <td>49.3</td>\n",
       "      <td>13.3</td>\n",
       "      <td>13.387907</td>\n",
       "    </tr>\n",
       "  </tbody>\n",
       "</table>\n",
       "</div>"
      ],
      "text/plain": [
       "        TV  radio  newspaper  actual sales  predicted sales\n",
       "94   250.9   36.5       72.3          22.2        21.062797\n",
       "181  156.6    2.6        8.3          10.5        10.670705\n",
       "199  283.6   42.0       66.2          25.5        23.626158\n",
       "64   102.7   29.6        8.4          14.0        13.199791\n",
       "1    230.1   37.8       69.2          22.1        20.355652\n",
       "9      8.6    2.1        1.0           4.8         3.760384\n",
       "47    89.7    9.9       35.7          10.6         8.813224\n",
       "130   59.6   12.0       43.1           9.7         7.778647\n",
       "171   50.0   11.6       18.4           8.4         7.367922\n",
       "39    43.1   26.7       35.1          10.1         9.785275\n",
       "104  187.9   17.2       17.9          14.7        14.793893\n",
       "134  219.8   33.5       45.1          19.6        19.184231\n",
       "146  140.3    1.9        9.0          10.3         9.783057\n",
       "133    8.4   27.2        2.1           5.7         8.416711\n",
       "177  248.4   30.2       20.3          20.2        20.002170\n",
       "43   293.6   27.7        1.8          20.7        21.709646\n",
       "140  184.9   43.9        1.7          20.7        19.693982\n",
       "123  224.0    2.4       15.6          11.6        13.720740\n",
       "28   240.1   16.7       22.9          15.9        17.094730\n",
       "165  117.2   14.7        5.4          11.9        11.111478\n",
       "155  187.8   21.1        9.5          15.6        15.551664\n",
       "110  255.4   26.9        5.5          19.8        19.776781\n",
       "195  149.7   35.6        6.0          17.3        16.501794\n",
       "149   38.0   40.3       11.9          10.9        12.181244\n",
       "81    76.4   26.7       22.3          11.8        11.382299\n",
       "75   213.4   24.6       13.1          17.0        17.371902\n",
       "163  188.4   18.1       25.6          14.9        14.950836\n",
       "138  273.7   28.9       59.7          20.8        20.758882\n",
       "119  125.7   36.9       79.2          15.9        15.313012\n",
       "161  172.5   18.1       30.7          14.4        14.192715\n",
       "106  137.9   46.4       59.0          19.2        17.733590\n",
       "154  171.3   39.7       37.7          19.0        18.125722\n",
       "88   110.7   40.6       63.2          16.0        15.377245\n",
       "121  141.3   26.8       46.2          15.5        14.299893\n",
       "179  276.7    2.3       23.7          11.8        16.105593\n",
       "66    69.0    9.3        0.9           9.3         7.895748\n",
       "160  131.7   18.4       34.6          12.9        12.343331\n",
       "21   218.4   27.7       53.4          18.0        18.003944\n",
       "116   75.1   35.0       52.7          12.6        12.733636\n",
       "162   85.7   35.8       49.3          13.3        13.387907"
      ]
     },
     "execution_count": 40,
     "metadata": {},
     "output_type": "execute_result"
    }
   ],
   "source": [
    "new_df= pd.DataFrame()\n",
    "new_df= x_test\n",
    "new_df['actual sales']=y_test\n",
    "new_df['predicted sales']=y_pred\n",
    "new_df"
   ]
  },
  {
   "cell_type": "code",
   "execution_count": 45,
   "id": "66f766fd",
   "metadata": {},
   "outputs": [
    {
     "name": "stdout",
     "output_type": "stream",
     "text": [
      "R-squared: 92.96114987832564\n",
      "RMSE: 1.2516705256103906\n"
     ]
    }
   ],
   "source": [
    "from sklearn.metrics import r2_score,mean_squared_error\n",
    "import numpy as np\n",
    "\n",
    "r2=r2_score(y_test,y_pred)\n",
    "print(\"R-squared:\",r2*100)\n",
    "\n",
    "rmse=np.sqrt(mean_squared_error(y_test,y_pred))\n",
    "print (\"RMSE:\",rmse)"
   ]
  },
  {
   "cell_type": "code",
   "execution_count": 46,
   "id": "0031ab98",
   "metadata": {},
   "outputs": [],
   "source": [
    "new_df.to_csv(\"update.csv\")"
   ]
  },
  {
   "cell_type": "code",
   "execution_count": null,
   "id": "ec1e71c8",
   "metadata": {},
   "outputs": [],
   "source": []
  }
 ],
 "metadata": {
  "kernelspec": {
   "display_name": "Python 3 (ipykernel)",
   "language": "python",
   "name": "python3"
  },
  "language_info": {
   "codemirror_mode": {
    "name": "ipython",
    "version": 3
   },
   "file_extension": ".py",
   "mimetype": "text/x-python",
   "name": "python",
   "nbconvert_exporter": "python",
   "pygments_lexer": "ipython3",
   "version": "3.11.5"
  }
 },
 "nbformat": 4,
 "nbformat_minor": 5
}
